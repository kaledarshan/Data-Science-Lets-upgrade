{
 "cells": [
  {
   "cell_type": "markdown",
   "metadata": {},
   "source": [
    "Question: 1.\n",
    "Given the following jumbled word, OBANWRI guess the correct English word.\n",
    "\n",
    "A. RANIBOW\n",
    "B. RAINBOW\n",
    "C. BOWRANI\n",
    "D. ROBWANI"
   ]
  },
  {
   "cell_type": "code",
   "execution_count": null,
   "metadata": {},
   "outputs": [],
   "source": [
    "RAINBOW"
   ]
  },
  {
   "cell_type": "markdown",
   "metadata": {},
   "source": [
    "Question 2:\n",
    "Write a program that prints “LETS UPGRADE”. (Please note that you have to print in ALL CAPS\n",
    "as given)"
   ]
  },
  {
   "cell_type": "code",
   "execution_count": 2,
   "metadata": {},
   "outputs": [
    {
     "name": "stdout",
     "output_type": "stream",
     "text": [
      "\"LETS UPGRADE\"\n"
     ]
    }
   ],
   "source": [
    "a = 'LETS upgrade'\n",
    "print('\"{}\"'.format(a).upper())"
   ]
  },
  {
   "cell_type": "markdown",
   "metadata": {},
   "source": [
    "Question 3:\n",
    "Write a program that takes cost price and selling price as input and\n",
    "displays whether the transaction is a Profit or a Loss or Neither.\n",
    "INPUT FORMAT\n",
    "● The first line contains the cost price.\n",
    "● The second line contains the selling price.\n",
    "OUTPUT FORMAT\n",
    "● Print \"Profit\" if the transaction is a profit or \"Loss\" if it is a loss. If it is neither\n",
    "● profit nor loss, print \"Neither\". (You must not have quotes in your output)"
   ]
  },
  {
   "cell_type": "code",
   "execution_count": 3,
   "metadata": {},
   "outputs": [],
   "source": [
    "def pl(CP,SP):\n",
    "    sum1 = (CP-SP)   \n",
    "    if sum1 < 0:\n",
    "        print('Profit')\n",
    "    elif sum1 > 0:\n",
    "        print('Loss')\n",
    "    elif sum1 == 0:\n",
    "        print('Neither')"
   ]
  },
  {
   "cell_type": "code",
   "execution_count": 4,
   "metadata": {},
   "outputs": [
    {
     "name": "stdout",
     "output_type": "stream",
     "text": [
      "Profit\n",
      "Loss\n",
      "Neither\n",
      "Neither\n",
      "Loss\n",
      "Profit\n"
     ]
    }
   ],
   "source": [
    "#Test case:1\n",
    "pl(20,30)\n",
    "#Test case:2\n",
    "pl(20,10)\n",
    "#Test case:3\n",
    "pl(20,20)\n",
    "#Test case:4\n",
    "pl(19,19)\n",
    "#Test case:5\n",
    "pl(23,7)\n",
    "#Test case:6\n",
    "pl(19,95)"
   ]
  },
  {
   "cell_type": "markdown",
   "metadata": {},
   "source": [
    "Question 4:\n",
    "Write a program that takes an amount in Euros as input. You need to find its equivalent in\n",
    "Rupees and display it. Assume 1 Euro equals Rs. 80.\n",
    "Please note that you are expected to stick to the given input and output\n",
    "format as in sample test cases. Please don't add any extra lines such as\n",
    "'Enter a number’ etc.\n",
    "Your program should take only one number as input and display the output"
   ]
  },
  {
   "cell_type": "code",
   "execution_count": 5,
   "metadata": {},
   "outputs": [],
   "source": [
    "def converter():\n",
    "    Case = input(str('Case no: ',))\n",
    "    Input = int(input('Input Euros: '))\n",
    "    Output = print(Input * 88.28)"
   ]
  },
  {
   "cell_type": "code",
   "execution_count": 6,
   "metadata": {},
   "outputs": [
    {
     "name": "stdout",
     "output_type": "stream",
     "text": [
      "Case no: TEST CASE 1\n",
      "Input Euros: 500\n",
      "44140.0\n"
     ]
    }
   ],
   "source": [
    "converter()"
   ]
  },
  {
   "cell_type": "markdown",
   "metadata": {},
   "source": [
    "Question 5:\n",
    "Create an empty list. Accept 10 numbers from the user and append to it the list if it is an even\n",
    "number."
   ]
  },
  {
   "cell_type": "code",
   "execution_count": 7,
   "metadata": {},
   "outputs": [
    {
     "name": "stdout",
     "output_type": "stream",
     "text": [
      "Enter the number of list size 10\n",
      "\n",
      "\n",
      "Enter single number and press enter: 41\n",
      "Enter single number and press enter: 78\n",
      "Enter single number and press enter: 96\n",
      "Enter single number and press enter: 35\n",
      "Enter single number and press enter: 42\n",
      "Enter single number and press enter: 24\n",
      "Enter single number and press enter: 23\n",
      "Enter single number and press enter: 59\n",
      "Enter single number and press enter: 60\n",
      "Enter single number and press enter: 71\n",
      "List is [41, 78, 96, 35, 42, 24, 23, 59, 60, 71]\n",
      "Appended list is [78, 96, 42, 24, 60]\n"
     ]
    }
   ],
   "source": [
    "# accept nested list from user\n",
    "lis = []\n",
    "list_size = int(input(\"Enter the number of list size \"))\n",
    "\n",
    "print(\"\\n\")\n",
    "\n",
    "final_list = [int(input(\"Enter single number and press enter: \")) for _ in range(list_size)]\n",
    "print(\"List is\", final_list)\n",
    "\n",
    "for i in final_list:\n",
    "    if i%2==0:\n",
    "        lis.append(i)\n",
    "    else:\n",
    "        pass\n",
    "print('Appended list is',lis)\n"
   ]
  },
  {
   "cell_type": "markdown",
   "metadata": {},
   "source": [
    "Question 6:\n",
    "Create a notebook on LIST COMPREHENSION. This exercise is to put you in a\n",
    "Self-learning mode"
   ]
  },
  {
   "cell_type": "markdown",
   "metadata": {},
   "source": [
    "List comprehensions provide us with a simple way to create a list based on some iterable. During the creation, elements from the iterable can be conditionally included in the new list and transformed as needed.\n",
    "The list comprehensions are more efficient both computationally and in terms of coding space and time than a for loop. Typically, they are written in a single line of code.\n",
    "n Python, we have also dictionary comprehensions and set comprehensions. All the principles we saw are the same for these comprehensions, too. We just have to know some very little details to create a dictionary or set comprehensions.\n",
    "Dictionary Comprehensions:\n",
    "To create a dictionary comprehension we just need to change the brackets [] to curly braces {}. Additionally, in the output expression, we need to separate key and value by a colon :.\n",
    "To create a set comprehension we only need to change the brackets [] to curly braces {}.\n",
    "\n",
    "List comprehensions provide us with a simple way to create a list based on some iterable.\n",
    "The comprehensions are more efficient than using a for a loop.\n",
    "We can use conditional statements in the comprehensions.\n",
    "Comprehensions are a good alternative to the built-in map and filter functions.\n",
    "We can have nested comprehensions.\n",
    "In Python, we have also dictionary comprehensions and set comprehensions.\n",
    "Generator expressions are preferable when we work with an infinite stream of a very large amount of data.\n"
   ]
  },
  {
   "cell_type": "markdown",
   "metadata": {},
   "source": [
    "Question 7:\n",
    "You have seen in the videos how powerful dictionary data structure is.\n",
    "In this assignment, given a number n, you have to write a program that generates a dictionary\n",
    "d which contains (i, i*i), where i is from 1 to n (both included).\n",
    "Then you have to just print this dictionary d."
   ]
  },
  {
   "cell_type": "code",
   "execution_count": 8,
   "metadata": {},
   "outputs": [
    {
     "name": "stdout",
     "output_type": "stream",
     "text": [
      "Input a number 8\n",
      "{1: 1, 2: 4, 3: 9, 4: 16, 5: 25, 6: 36, 7: 49, 8: 64}\n"
     ]
    }
   ],
   "source": [
    "n=int(input(\"Input a number \"))\n",
    "d = dict()\n",
    "\n",
    "for x in range(1,n+1):\n",
    "    d[x]=x*x\n",
    "\n",
    "print(d)"
   ]
  },
  {
   "cell_type": "markdown",
   "metadata": {},
   "source": [
    "Question 8\n",
    "There is a robot that wants to go to the charging point to charge itself.\n",
    "The robot moves in a 2-D plane from the original point (0,0). The robot can\n",
    "move toward UP, DOWN, LEFT, and RIGHT with given steps.\n",
    "The trace of robot movement is shown as the following:\n",
    "UP 5\n",
    "DOWN 3\n",
    "LEFT 3\n",
    "RIGHT 2\n",
    "Then, the output of the program should be: 2\n",
    "The numbers after the direction are steps.\n",
    "Write a program to compute the distance between the current position after\n",
    "a sequence of movement and the original point. If the distance is float, then\n",
    "just print the nearest integer (use round() function for that and then convert\n",
    "it into an integer).\n",
    "Input Format:\n",
    "The first line of the input contains a number n which implies the number of\n",
    "directions to be given.\n",
    "The next n lines contain the direction and the step separated by a space.\n",
    "Output Format:\n",
    "Print the distance from the original position to the current position.\n",
    "Example:\n",
    "Input: 4\n",
    "UP 5\n",
    "DOWN 3\n",
    "LEFT 3\n",
    "RIGHT 2\n",
    "Output: 2"
   ]
  },
  {
   "cell_type": "code",
   "execution_count": 2,
   "metadata": {},
   "outputs": [],
   "source": [
    "import math"
   ]
  },
  {
   "cell_type": "code",
   "execution_count": 3,
   "metadata": {},
   "outputs": [
    {
     "name": "stdout",
     "output_type": "stream",
     "text": [
      "no of directions 4\n",
      "UP,DOWN,LEFT,RIGHT: UP 5\n",
      "UP,DOWN,LEFT,RIGHT: DOWN 3\n",
      "UP,DOWN,LEFT,RIGHT: LEFT 3\n",
      "UP,DOWN,LEFT,RIGHT: RIGHT 2\n",
      "2\n"
     ]
    }
   ],
   "source": [
    "\n",
    "position = [0,0]\n",
    "\n",
    "moves = []\n",
    "\n",
    "s = int(input('no of directions ',))\n",
    "\n",
    "\n",
    "for i in range(s):\n",
    "    moves=list(input('UP,DOWN,LEFT,RIGHT: ').split())\n",
    "    direction = moves[0].upper()\n",
    "    steps = int(moves[1])\n",
    "    if direction==\"UP\":\n",
    "\n",
    "        position[0] += steps\n",
    "\n",
    "    elif direction==\"DOWN\":\n",
    "\n",
    "        position[0] -= steps\n",
    "\n",
    "    elif direction==\"LEFT\":\n",
    "\n",
    "        position[1] -= steps\n",
    "\n",
    "    elif direction==\"RIGHT\":\n",
    "\n",
    "        position[1] += steps\n",
    "\n",
    "    \n",
    "    else:\n",
    "\n",
    "        pass\n",
    "print(round(math.sqrt(position[0]**2+position[1]**2)))"
   ]
  },
  {
   "cell_type": "markdown",
   "metadata": {},
   "source": [
    "Questions 9:\n",
    "Create a NumPy array starting from 2 till 50 with a step size of 3."
   ]
  },
  {
   "cell_type": "code",
   "execution_count": 4,
   "metadata": {},
   "outputs": [],
   "source": [
    "import numpy as np"
   ]
  },
  {
   "cell_type": "code",
   "execution_count": 5,
   "metadata": {},
   "outputs": [
    {
     "data": {
      "text/plain": [
       "array([ 2,  5,  8, 11, 14, 17, 20, 23, 26, 29, 32, 35, 38, 41, 44, 47])"
      ]
     },
     "execution_count": 5,
     "metadata": {},
     "output_type": "execute_result"
    }
   ],
   "source": [
    "a = np.arange(2,50,3)\n",
    "a"
   ]
  },
  {
   "cell_type": "markdown",
   "metadata": {},
   "source": [
    "Questions 10:\n",
    "Accept two lists of 5 elements each from the user.\n",
    "Convert them to NumPy arrays. Concatenate these arrays and print them. Also, sort these arrays\n",
    "and print them."
   ]
  },
  {
   "cell_type": "code",
   "execution_count": 6,
   "metadata": {},
   "outputs": [
    {
     "name": "stdout",
     "output_type": "stream",
     "text": [
      "Enter the list size 5\n",
      "\n",
      "\n",
      "41\n",
      "52\n",
      "78\n",
      "96\n",
      "53\n",
      "Enter the list size 5\n",
      "\n",
      "\n",
      "14\n",
      "25\n",
      "36\n",
      "58\n",
      "68\n",
      "[41, 52, 78, 96, 53]\n",
      "[14, 25, 36, 58, 68]\n"
     ]
    }
   ],
   "source": [
    "number_list = []\n",
    "n = int(input(\"Enter the list size \"))\n",
    "\n",
    "print(\"\\n\")\n",
    "for i in range(0, n):\n",
    "    item = int(input())\n",
    "    number_list.append(item)\n",
    "number_list1 = []\n",
    "n = int(input(\"Enter the list size \"))\n",
    "\n",
    "print(\"\\n\")\n",
    "for i in range(0, n):\n",
    "    item = int(input())\n",
    "    number_list1.append(item)\n",
    "    \n",
    "print(number_list)\n",
    "print(number_list1)\n",
    "\n"
   ]
  },
  {
   "cell_type": "code",
   "execution_count": 7,
   "metadata": {},
   "outputs": [
    {
     "name": "stdout",
     "output_type": "stream",
     "text": [
      "[41 52 78 96 53]\n",
      "[14 25 36 58 68]\n"
     ]
    }
   ],
   "source": [
    "#array\n",
    "array1 = np.array(number_list)\n",
    "array2 = np.array(number_list1)\n",
    "print(array1)\n",
    "print(array2)"
   ]
  },
  {
   "cell_type": "code",
   "execution_count": 8,
   "metadata": {},
   "outputs": [
    {
     "name": "stdout",
     "output_type": "stream",
     "text": [
      "[41 52 53 78 96]\n",
      "[14 25 36 58 68]\n"
     ]
    }
   ],
   "source": [
    "#sort\n",
    "sortarray1 = np.sort(array1)\n",
    "sortarray2  =np.sort(array2)\n",
    "print(sortarray1)\n",
    "print(sortarray2)"
   ]
  },
  {
   "cell_type": "code",
   "execution_count": 9,
   "metadata": {},
   "outputs": [
    {
     "data": {
      "text/plain": [
       "array([41, 52, 53, 78, 96, 14, 25, 36, 58, 68])"
      ]
     },
     "execution_count": 9,
     "metadata": {},
     "output_type": "execute_result"
    }
   ],
   "source": [
    "#concatenate\n",
    "arr = np.concatenate((sortarray1, sortarray2))\n",
    "arr"
   ]
  },
  {
   "cell_type": "code",
   "execution_count": 12,
   "metadata": {},
   "outputs": [
    {
     "data": {
      "text/plain": [
       "array([14, 25, 36, 41, 52, 53, 58, 68, 78, 96])"
      ]
     },
     "execution_count": 12,
     "metadata": {},
     "output_type": "execute_result"
    }
   ],
   "source": [
    "arr.sort()\n",
    "arr"
   ]
  },
  {
   "cell_type": "markdown",
   "metadata": {},
   "source": [
    "Questions 11:\n",
    "Write a code snippet to find the dimensions of a ndarray and its size."
   ]
  },
  {
   "cell_type": "code",
   "execution_count": 13,
   "metadata": {},
   "outputs": [
    {
     "name": "stdout",
     "output_type": "stream",
     "text": [
      "No of dimensions  2\n",
      "Shape of array  (2, 3)\n"
     ]
    }
   ],
   "source": [
    "ar =np.array([[7,8,4],\n",
    "              [5,7,2]])\n",
    "print('No of dimensions ',ar.ndim)\n",
    "print('Shape of array ',ar.shape)"
   ]
  },
  {
   "cell_type": "code",
   "execution_count": 14,
   "metadata": {},
   "outputs": [
    {
     "name": "stdout",
     "output_type": "stream",
     "text": [
      "No of dimensions  2\n",
      "Shape of array  (2, 3)\n"
     ]
    }
   ],
   "source": [
    "def shdim(ar):\n",
    "    dim = ar.ndim\n",
    "    shape = ar.shape\n",
    "    print('No of dimensions ',dim)\n",
    "    print('Shape of array ',shape)\n",
    "shdim(ar)\n",
    "\n"
   ]
  },
  {
   "cell_type": "markdown",
   "metadata": {},
   "source": [
    "Questions 12:\n",
    "How to convert a 1D array into a 2D array? Demonstrate with the help of a code snippet\n",
    "Hint: np.newaxis, np.expand_dims"
   ]
  },
  {
   "cell_type": "code",
   "execution_count": 15,
   "metadata": {},
   "outputs": [
    {
     "data": {
      "text/plain": [
       "(1, 4)"
      ]
     },
     "execution_count": 15,
     "metadata": {},
     "output_type": "execute_result"
    }
   ],
   "source": [
    "arr4 = np.arange(4)\n",
    "arr4.shape\n",
    "\n",
    "# make it as row vector by inserting an axis along first dimension\n",
    "row_vec = arr4[np.newaxis, :]     \n",
    "row_vec.shape\n",
    "#output(1, 4)"
   ]
  },
  {
   "cell_type": "code",
   "execution_count": 16,
   "metadata": {},
   "outputs": [
    {
     "data": {
      "text/plain": [
       "(4, 1)"
      ]
     },
     "execution_count": 16,
     "metadata": {},
     "output_type": "execute_result"
    }
   ],
   "source": [
    "# make it as column vector by inserting an axis along second dimension\n",
    "col_vec = arr4[:, np.newaxis]  \n",
    "col_vec.shape\n",
    "#Out(4, 1)"
   ]
  },
  {
   "cell_type": "code",
   "execution_count": 17,
   "metadata": {},
   "outputs": [
    {
     "data": {
      "text/plain": [
       "array([0, 1, 2, 3, 4])"
      ]
     },
     "execution_count": 17,
     "metadata": {},
     "output_type": "execute_result"
    }
   ],
   "source": [
    "#array\n",
    "arr5 =np.arange(5)\n",
    "arr5"
   ]
  },
  {
   "cell_type": "code",
   "execution_count": 18,
   "metadata": {},
   "outputs": [
    {
     "data": {
      "text/plain": [
       "array([[0, 1, 2, 3, 4]])"
      ]
     },
     "execution_count": 18,
     "metadata": {},
     "output_type": "execute_result"
    }
   ],
   "source": [
    "#expand_Dims\n",
    "np.expand_dims(arr5, axis=0)"
   ]
  },
  {
   "cell_type": "code",
   "execution_count": 19,
   "metadata": {},
   "outputs": [
    {
     "data": {
      "text/plain": [
       "array([[0],\n",
       "       [1],\n",
       "       [2],\n",
       "       [3],\n",
       "       [4]])"
      ]
     },
     "execution_count": 19,
     "metadata": {},
     "output_type": "execute_result"
    }
   ],
   "source": [
    "np.expand_dims(arr5, axis=1)"
   ]
  },
  {
   "cell_type": "markdown",
   "metadata": {},
   "source": [
    "Questions 13:\n",
    "Consider two square NumPy arrays. Stack them vertically and horizontally.\n",
    "Hint: Use vstack(), hstack()\n"
   ]
  },
  {
   "cell_type": "code",
   "execution_count": 20,
   "metadata": {},
   "outputs": [],
   "source": [
    "arr6 = np.array([[4,2,8],\n",
    "                [8,6,9],\n",
    "                [1,4,7]])\n",
    "arr7 = np.array([[9,6,3],\n",
    "                [8,5,2],\n",
    "                [7,4,1]])\n"
   ]
  },
  {
   "cell_type": "code",
   "execution_count": 21,
   "metadata": {},
   "outputs": [
    {
     "data": {
      "text/plain": [
       "array([[4, 2, 8],\n",
       "       [8, 6, 9],\n",
       "       [1, 4, 7],\n",
       "       [9, 6, 3],\n",
       "       [8, 5, 2],\n",
       "       [7, 4, 1]])"
      ]
     },
     "execution_count": 21,
     "metadata": {},
     "output_type": "execute_result"
    }
   ],
   "source": [
    "np.vstack((arr6,arr7))"
   ]
  },
  {
   "cell_type": "code",
   "execution_count": 22,
   "metadata": {},
   "outputs": [
    {
     "data": {
      "text/plain": [
       "array([[4, 2, 8, 9, 6, 3],\n",
       "       [8, 6, 9, 8, 5, 2],\n",
       "       [1, 4, 7, 7, 4, 1]])"
      ]
     },
     "execution_count": 22,
     "metadata": {},
     "output_type": "execute_result"
    }
   ],
   "source": [
    "np.hstack((arr6,arr7))"
   ]
  },
  {
   "cell_type": "markdown",
   "metadata": {},
   "source": [
    "Questions 14:\n",
    "How to get unique items and counts of unique items?"
   ]
  },
  {
   "cell_type": "code",
   "execution_count": null,
   "metadata": {},
   "outputs": [],
   "source": [
    "We can get unique items and their count by fuction  \"value_counts\""
   ]
  },
  {
   "cell_type": "code",
   "execution_count": null,
   "metadata": {},
   "outputs": [],
   "source": []
  }
 ],
 "metadata": {
  "kernelspec": {
   "display_name": "Python 3",
   "language": "python",
   "name": "python3"
  }
 },
 "nbformat": 4,
 "nbformat_minor": 4
}
